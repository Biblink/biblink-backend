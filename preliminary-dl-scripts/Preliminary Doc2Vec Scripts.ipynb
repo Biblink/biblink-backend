{
 "cells": [
  {
   "cell_type": "markdown",
   "metadata": {},
   "source": [
    "# Preliminary Scripts for Doc2Vec Algorithm\n",
    "Author: Brandon Fan"
   ]
  },
  {
   "cell_type": "code",
   "execution_count": 1,
   "metadata": {
    "collapsed": false,
    "scrolled": true
   },
   "outputs": [],
   "source": [
    "# import packages\n",
    "import os\n",
    "import json"
   ]
  },
  {
   "cell_type": "markdown",
   "metadata": {},
   "source": [
    "## Load Data"
   ]
  },
  {
   "cell_type": "code",
   "execution_count": 2,
   "metadata": {
    "collapsed": false
   },
   "outputs": [],
   "source": [
    "bible_data = json.load(open('../bible-files/english-web-bible.json', encoding='utf-8-sig'))"
   ]
  },
  {
   "cell_type": "code",
   "execution_count": 3,
   "metadata": {
    "collapsed": true
   },
   "outputs": [],
   "source": [
    "verse_data = []\n",
    "for book in bible_data:\n",
    "    for chapter in book['data']:\n",
    "        for verses in chapter['verses']:\n",
    "           verse_data.append(verses)"
   ]
  },
  {
   "cell_type": "code",
   "execution_count": 4,
   "metadata": {
    "collapsed": false
   },
   "outputs": [],
   "source": [
    "for val in verse_data:\n",
    "    if val['text'] is None:\n",
    "        print(val)\n",
    "        "
   ]
  },
  {
   "cell_type": "markdown",
   "metadata": {},
   "source": [
    "## Preprocess Text"
   ]
  },
  {
   "cell_type": "code",
   "execution_count": 5,
   "metadata": {
    "collapsed": true
   },
   "outputs": [],
   "source": [
    "import nltk\n",
    "from nltk.tokenize import word_tokenize\n",
    "from nltk.corpus import stopwords\n",
    "import string"
   ]
  },
  {
   "cell_type": "code",
   "execution_count": 6,
   "metadata": {
    "collapsed": false
   },
   "outputs": [],
   "source": [
    "stopwords = set(stopwords.words('english'))\n",
    "exclude = set(string.punctuation)\n",
    "def tokenize_data(verse_data):\n",
    "    for verse in verse_data:\n",
    "        text = ''.join(ch for ch in verse['text'] if ch not in exclude)\n",
    "        tokenized_text = word_tokenize(text)\n",
    "        final_text = []\n",
    "        for val in tokenized_text:\n",
    "            if val not in stopwords:\n",
    "                if 'Yahweh' in val:\n",
    "                    val = val.replace('Yahweh', 'God')\n",
    "                final_text.append(val)\n",
    "        verse['tokenized_text'] = final_text\n",
    "tokenize_data(verse_data)"
   ]
  },
  {
   "cell_type": "markdown",
   "metadata": {},
   "source": [
    "## Doc2Vec"
   ]
  },
  {
   "cell_type": "code",
   "execution_count": 7,
   "metadata": {
    "collapsed": false
   },
   "outputs": [
    {
     "name": "stderr",
     "output_type": "stream",
     "text": [
      "C:\\Users\\Brandon Fan\\Anaconda3\\lib\\site-packages\\gensim\\utils.py:860: UserWarning: detected Windows; aliasing chunkize to chunkize_serial\n",
      "  warnings.warn(\"detected Windows; aliasing chunkize to chunkize_serial\")\n",
      "Using TensorFlow backend.\n"
     ]
    }
   ],
   "source": [
    "import gensim"
   ]
  },
  {
   "cell_type": "code",
   "execution_count": 53,
   "metadata": {
    "collapsed": true
   },
   "outputs": [],
   "source": [
    "def create_corpus(verse_tokenized_data, use_nltk=False):\n",
    "    for verse in verse_data:\n",
    "        if use_nltk:\n",
    "            words = verse['tokenized_text']\n",
    "            yield gensim.models.doc2vec.TaggedDocument(words, [verse['verse']])\n",
    "        else:\n",
    "            words = verse['text']\n",
    "            yield gensim.models.doc2vec.TaggedDocument(gensim.utils.simple_preprocess(words), [verse['verse']])"
   ]
  },
  {
   "cell_type": "code",
   "execution_count": 76,
   "metadata": {
    "collapsed": false
   },
   "outputs": [],
   "source": [
    "tagged_docs = list(create_corpus(verse_data, use_nltk=False))"
   ]
  },
  {
   "cell_type": "code",
   "execution_count": 82,
   "metadata": {
    "collapsed": false
   },
   "outputs": [],
   "source": [
    "model = gensim.models.Doc2Vec(size=20, iter=100, workers=11, min_count=4, window=4, alpha=0.0001, min_alpha=1e-6)"
   ]
  },
  {
   "cell_type": "code",
   "execution_count": 83,
   "metadata": {
    "collapsed": false
   },
   "outputs": [],
   "source": [
    "model.build_vocab(tagged_docs)"
   ]
  },
  {
   "cell_type": "code",
   "execution_count": 84,
   "metadata": {
    "collapsed": false,
    "scrolled": true
   },
   "outputs": [
    {
     "name": "stdout",
     "output_type": "stream",
     "text": [
      "Wall time: 1min 52s\n"
     ]
    },
    {
     "data": {
      "text/plain": [
       "51933964"
      ]
     },
     "execution_count": 84,
     "metadata": {},
     "output_type": "execute_result"
    }
   ],
   "source": [
    "%time model.train(tagged_docs, total_examples=model.corpus_count, epochs=model.iter)"
   ]
  },
  {
   "cell_type": "code",
   "execution_count": 87,
   "metadata": {
    "collapsed": false,
    "scrolled": true
   },
   "outputs": [
    {
     "data": {
      "text/plain": [
       "[('Psalms 52:8', 0.7630136013031006),\n",
       " ('Exodus 6:24', 0.7618410587310791),\n",
       " ('Esther 1:5', 0.7202386856079102),\n",
       " ('1 Kings 8:41', 0.7128696441650391),\n",
       " ('Philippians 2:3', 0.7122591733932495),\n",
       " ('Numbers 20:29', 0.7117135524749756),\n",
       " ('Galatians 3:9', 0.7078370451927185),\n",
       " ('1 John 5:3', 0.7066912651062012),\n",
       " ('Esther 9:30', 0.7063077092170715),\n",
       " ('Joshua 19:47', 0.7043663263320923)]"
      ]
     },
     "execution_count": 87,
     "metadata": {},
     "output_type": "execute_result"
    }
   ],
   "source": [
    "similar = model.docvecs.most_similar([model.infer_vector(verse_data[151]['text'])], topn=10)\n",
    "similar"
   ]
  },
  {
   "cell_type": "code",
   "execution_count": 90,
   "metadata": {
    "collapsed": false
   },
   "outputs": [
    {
     "name": "stdout",
     "output_type": "stream",
     "text": [
      "Actual: Make a ship of gopher wood. You shall make rooms in the ship, and shall seal it inside and outside with pitch.\n",
      "\n",
      "Psalms 52:8: But as for me, I am like a green olive tree in God’s house.\n",
      "I trust in God’s loving kindness forever and ever.\n",
      "\n",
      "\n",
      "Exodus 6:24: The sons of Korah: Assir, and Elkanah, and Abiasaph; these are the families of the Korahites.\n",
      "\n",
      "\n",
      "Esther 1:5: When these days were fulfilled, the king made a seven day feast for all the people who were present in Shushan the palace, both great and small, in the court of the garden of the king’s palace.\n",
      "\n",
      "\n",
      "1 Kings 8:41: “Moreover concerning the foreigner, who is not of your people Israel, when he comes out of a far country for your name’s sake\n",
      "\n",
      "\n",
      "Philippians 2:3: doing nothing through rivalry or through conceit, but in humility, each counting others better than himself;\n",
      "\n",
      "\n",
      "Numbers 20:29: When all the congregation saw that Aaron was dead, they wept for Aaron thirty days, even all the house of Israel.\n",
      "\n",
      "\n",
      "Galatians 3:9: So then, those who are of faith are blessed with the faithful Abraham.\n",
      "\n",
      "\n",
      "1 John 5:3: For this is loving God, that we keep his commandments. His commandments are not grievous.\n",
      "\n",
      "\n",
      "Esther 9:30: He sent letters to all the Jews, to the hundred twenty-seven provinces of the kingdom of Ahasuerus, with words of peace and truth,\n",
      "\n",
      "\n",
      "Joshua 19:47: The border of the children of Dan went out beyond them; for the children of Dan went up and fought against Leshem, and took it, and struck it with the edge of the sword, and possessed it, and lived therein, and called Leshem, Dan, after the name of Dan their forefather.\n",
      "\n",
      "\n"
     ]
    }
   ],
   "source": [
    "similar_tags = [val[0] for val in similar]\n",
    "print('Actual: ' + verse_data[151]['text'] + '\\n')\n",
    "for tag in similar_tags:\n",
    "    for verse in verse_data:\n",
    "        if verse['verse'] == tag:\n",
    "            print(tag + ':', verse['text'] + '\\n\\n')"
   ]
  },
  {
   "cell_type": "markdown",
   "metadata": {},
   "source": [
    "## TF-IDF and Cosine Similarity"
   ]
  },
  {
   "cell_type": "code",
   "execution_count": 105,
   "metadata": {
    "collapsed": true
   },
   "outputs": [],
   "source": [
    "from sklearn.feature_extraction.text import TfidfVectorizer\n",
    "from sklearn.metrics.pairwise import cosine_similarity\n",
    "import numpy as np"
   ]
  },
  {
   "cell_type": "code",
   "execution_count": 106,
   "metadata": {
    "collapsed": true
   },
   "outputs": [],
   "source": [
    "vectorizer = TfidfVectorizer(stop_words='english')"
   ]
  },
  {
   "cell_type": "code",
   "execution_count": 107,
   "metadata": {
    "collapsed": false
   },
   "outputs": [],
   "source": [
    "term_idf = vectorizer.fit_transform([verse['text'] for verse in verse_data])"
   ]
  },
  {
   "cell_type": "code",
   "execution_count": 108,
   "metadata": {
    "collapsed": false
   },
   "outputs": [],
   "source": [
    "cosine_similarity_matrix = cosine_similarity(term_idf)"
   ]
  },
  {
   "cell_type": "code",
   "execution_count": 109,
   "metadata": {
    "collapsed": false
   },
   "outputs": [
    {
     "name": "stdout",
     "output_type": "stream",
     "text": [
      "Actual: In the beginning, God created the heavens and the earth. \n",
      "\n",
      "Closest: This is the history of the generations of the heavens and of the earth when they were created, in the day that Yahweh God made the earth and the heavens.\n",
      "Score: 0.678020989269\n"
     ]
    }
   ],
   "source": [
    "x = list(reversed(np.argsort(cosine_similarity_matrix[0])))\n",
    "print('Actual: ' + verse_data[0]['text'], '\\n\\nClosest: ' + verse_data[x[1]]['text'])\n",
    "score = list(reversed(sorted(cosine_similarity_matrix[0])))[1]\n",
    "print('Score: ' + str(score))"
   ]
  },
  {
   "cell_type": "markdown",
   "metadata": {},
   "source": [
    "## Combined"
   ]
  },
  {
   "cell_type": "code",
   "execution_count": 132,
   "metadata": {
    "collapsed": true
   },
   "outputs": [],
   "source": [
    "def get_similar_values(tokenized_text, total_values=10):\n",
    "    inferred_vector = model.infer_vector(tokenized_text)\n",
    "    most_similar = model.docvecs.most_similar([inferred_vector], topn=total_values + 10)\n",
    "    text = [''.join(tokenized_text)]\n",
    "    for verse_name, _ in most_similar:\n",
    "        for verse in verse_data:\n",
    "            if verse['verse'] == verse_name:\n",
    "                text.append(verse['text'])\n",
    "    vectorizer = TfidfVectorizer(stop_words='english')\n",
    "    tf_idf_transform = vectorizer.fit_transform(text)\n",
    "    cos_sim_matrix = cosine_similarity(tf_idf_transform)\n",
    "    sim_text = cos_sim_matrix[0][1:]\n",
    "    final_text = []\n",
    "    final_indices = list(reversed(np.argsort(sim_text)))[:10]\n",
    "    for index in final_indices:\n",
    "        final_text.append(text[index])\n",
    "    return final_text"
   ]
  },
  {
   "cell_type": "code",
   "execution_count": 134,
   "metadata": {
    "collapsed": false
   },
   "outputs": [
    {
     "name": "stdout",
     "output_type": "stream",
     "text": [
      "Actual: Make a ship of gopher wood. You shall make rooms in the ship, and shall seal it inside and outside with pitch.\n",
      "Jesus said to them,\n",
      "“If you were blind, you would have no sin; but now you say, ‘We see.’ Therefore your sin remains.\n",
      "\n",
      "\n",
      "Let the lying lips be mute,\n",
      "which speak against the righteous insolently, with pride and contempt.\n",
      "\n",
      "\n",
      "But as for me, I am like a green olive tree in God’s house.\n",
      "I trust in God’s loving kindness forever and ever.\n",
      "\n",
      "\n",
      "The sons of Korah: Assir, and Elkanah, and Abiasaph; these are the families of the Korahites.\n",
      "\n",
      "\n",
      "When these days were fulfilled, the king made a seven day feast for all the people who were present in Shushan the palace, both great and small, in the court of the garden of the king’s palace.\n",
      "\n",
      "\n",
      "“Moreover concerning the foreigner, who is not of your people Israel, when he comes out of a far country for your name’s sake\n",
      "\n",
      "\n",
      "doing nothing through rivalry or through conceit, but in humility, each counting others better than himself;\n",
      "\n",
      "\n",
      "When all the congregation saw that Aaron was dead, they wept for Aaron thirty days, even all the house of Israel.\n",
      "\n",
      "\n",
      "So then, those who are of faith are blessed with the faithful Abraham.\n",
      "\n",
      "\n",
      "For this is loving God, that we keep his commandments. His commandments are not grievous.\n",
      "\n",
      "\n"
     ]
    }
   ],
   "source": [
    "results = get_similar_values(verse_data[151]['text'])\n",
    "print('Actual: ' + verse_data[151]['text'])\n",
    "for val in results:\n",
    "    print(val + '\\n\\n')"
   ]
  }
 ],
 "metadata": {
  "anaconda-cloud": {},
  "kernelspec": {
   "display_name": "Python [conda root]",
   "language": "python",
   "name": "conda-root-py"
  },
  "language_info": {
   "codemirror_mode": {
    "name": "ipython",
    "version": 3
   },
   "file_extension": ".py",
   "mimetype": "text/x-python",
   "name": "python",
   "nbconvert_exporter": "python",
   "pygments_lexer": "ipython3",
   "version": "3.5.2"
  }
 },
 "nbformat": 4,
 "nbformat_minor": 1
}

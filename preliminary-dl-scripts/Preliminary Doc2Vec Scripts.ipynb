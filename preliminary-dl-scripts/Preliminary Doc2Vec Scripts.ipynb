{
 "cells": [
  {
   "cell_type": "markdown",
   "metadata": {},
   "source": [
    "# Preliminary Scripts for Doc2Vec Algorithm\n",
    "Author: Brandon Fan"
   ]
  },
  {
   "cell_type": "code",
   "execution_count": 1,
   "metadata": {
    "collapsed": true,
    "scrolled": true
   },
   "outputs": [],
   "source": [
    "# import packages\n",
    "import os\n",
    "import json"
   ]
  },
  {
   "cell_type": "markdown",
   "metadata": {},
   "source": [
    "## Load Data"
   ]
  },
  {
   "cell_type": "code",
   "execution_count": 2,
   "metadata": {
    "collapsed": true
   },
   "outputs": [],
   "source": [
    "bible_data = json.load(open('../bible-files/english-web-bible.json', encoding='utf-8-sig'))"
   ]
  },
  {
   "cell_type": "code",
   "execution_count": 3,
   "metadata": {
    "collapsed": true
   },
   "outputs": [],
   "source": [
    "verse_data = []\n",
    "for book in bible_data:\n",
    "    for chapter in book['data']:\n",
    "        for verses in chapter['verses']:\n",
    "           verse_data.append(verses)"
   ]
  },
  {
   "cell_type": "code",
   "execution_count": 4,
   "metadata": {
    "collapsed": true
   },
   "outputs": [],
   "source": [
    "for val in verse_data:\n",
    "    if val['text'] is None:\n",
    "        print(val)\n",
    "        "
   ]
  },
  {
   "cell_type": "markdown",
   "metadata": {},
   "source": [
    "## Preprocess Text"
   ]
  },
  {
   "cell_type": "code",
   "execution_count": 5,
   "metadata": {
    "collapsed": true
   },
   "outputs": [],
   "source": [
    "import nltk\n",
    "from nltk.tokenize import word_tokenize\n",
    "from nltk.corpus import stopwords\n",
    "import string"
   ]
  },
  {
   "cell_type": "code",
   "execution_count": 6,
   "metadata": {
    "collapsed": true
   },
   "outputs": [],
   "source": [
    "stopwords = set(stopwords.words('english'))\n",
    "exclude = set(string.punctuation)\n",
    "def tokenize_data(verse_data):\n",
    "    for verse in verse_data:\n",
    "        text = ''.join(ch for ch in verse['text'] if ch not in exclude)\n",
    "        tokenized_text = word_tokenize(text)\n",
    "        final_text = []\n",
    "        for val in tokenized_text:\n",
    "            if val not in stopwords:\n",
    "                if 'Yahweh' in val:\n",
    "                    val = val.replace('Yahweh', 'God')\n",
    "                final_text.append(val)\n",
    "        verse['tokenized_text'] = final_text\n",
    "tokenize_data(verse_data)"
   ]
  },
  {
   "cell_type": "markdown",
   "metadata": {},
   "source": [
    "## Doc2Vec"
   ]
  },
  {
   "cell_type": "code",
   "execution_count": 7,
   "metadata": {},
   "outputs": [
    {
     "name": "stderr",
     "output_type": "stream",
     "text": [
      "Using TensorFlow backend.\n"
     ]
    }
   ],
   "source": [
    "import gensim"
   ]
  },
  {
   "cell_type": "code",
   "execution_count": 8,
   "metadata": {
    "collapsed": true
   },
   "outputs": [],
   "source": [
    "def create_corpus(verse_tokenized_data, use_nltk=False):\n",
    "    for verse in verse_data:\n",
    "        if use_nltk:\n",
    "            words = verse['tokenized_text']\n",
    "            yield gensim.models.doc2vec.TaggedDocument(words, [verse['verse']])\n",
    "        else:\n",
    "            words = verse['text']\n",
    "            yield gensim.models.doc2vec.TaggedDocument(gensim.utils.simple_preprocess(words), [verse['verse']])"
   ]
  },
  {
   "cell_type": "code",
   "execution_count": 9,
   "metadata": {
    "collapsed": true
   },
   "outputs": [],
   "source": [
    "tagged_docs = list(create_corpus(verse_data, use_nltk=False))"
   ]
  },
  {
   "cell_type": "code",
   "execution_count": 10,
   "metadata": {
    "collapsed": true
   },
   "outputs": [],
   "source": [
    "model = gensim.models.Doc2Vec(size=20, iter=100, workers=11, min_count=4, window=4, alpha=0.0001, min_alpha=1e-6)"
   ]
  },
  {
   "cell_type": "code",
   "execution_count": 11,
   "metadata": {
    "collapsed": true
   },
   "outputs": [],
   "source": [
    "model.build_vocab(tagged_docs)"
   ]
  },
  {
   "cell_type": "code",
   "execution_count": 12,
   "metadata": {
    "collapsed": true,
    "scrolled": true
   },
   "outputs": [],
   "source": [
    "# %time model.train(tagged_docs, total_examples=model.corpus_count, epochs=model.iter)\n",
    "# model.save('doc2vec.model')"
   ]
  },
  {
   "cell_type": "code",
   "execution_count": 14,
   "metadata": {
    "collapsed": true
   },
   "outputs": [],
   "source": [
    "model = gensim.models.Doc2Vec.load('doc2vec.model')"
   ]
  },
  {
   "cell_type": "code",
   "execution_count": 22,
   "metadata": {
    "scrolled": true
   },
   "outputs": [
    {
     "data": {
      "text/plain": [
       "[('Exodus 22:8', 0.8269375562667847),\n",
       " ('Micah 5:3', 0.8139984011650085),\n",
       " ('Nehemiah 9:14', 0.7705897092819214),\n",
       " ('Isaiah 28:14', 0.7628965973854065),\n",
       " ('John 13:17', 0.7604496479034424),\n",
       " ('Psalms 31:7', 0.7244011163711548),\n",
       " ('Acts 1:1', 0.7243518233299255),\n",
       " ('Deuteronomy 10:10', 0.7184383273124695),\n",
       " ('Proverbs 8:26', 0.7064456939697266),\n",
       " ('Judges 21:18', 0.6994155645370483)]"
      ]
     },
     "execution_count": 22,
     "metadata": {},
     "output_type": "execute_result"
    }
   ],
   "source": [
    "similar = model.docvecs.most_similar([model.infer_vector(verse_data[151]['text'])], topn=10)\n",
    "similar"
   ]
  },
  {
   "cell_type": "code",
   "execution_count": 23,
   "metadata": {},
   "outputs": [
    {
     "name": "stdout",
     "output_type": "stream",
     "text": [
      "Actual: Make a ship of gopher wood. You shall make rooms in the ship, and shall seal it inside and outside with pitch.\n",
      "\n",
      "Exodus 22:8: If the thief isn’t found, then the master of the house shall come near to God, to find out if he hasn’t put his hand to his neighbor’s goods.\n",
      "\n",
      "\n",
      "Micah 5:3: Therefore he will abandon them until the time that she who is in labor gives birth.\n",
      "Then the rest of his brothers will return to the children of Israel.\n",
      "\n",
      "\n",
      "Nehemiah 9:14: and made known to them your holy Sabbath, and commanded them commandments, statutes, and a law, by Moses your servant,\n",
      "\n",
      "\n",
      "Isaiah 28:14: Therefore hear Yahweh’s word, you scoffers, that rule this people in Jerusalem:\n",
      "\n",
      "\n",
      "John 13:17: If you know these things, blessed are you if you do them.\n",
      "\n",
      "\n",
      "Psalms 31:7: I will be glad and rejoice in your loving kindness,\n",
      "for you have seen my affliction.\n",
      "You have known my soul in adversities.\n",
      "\n",
      "\n",
      "Acts 1:1: The first book I wrote, Theophilus, concerned all that Jesus began both to do and to teach,\n",
      "\n",
      "\n",
      "Deuteronomy 10:10: I stayed on the mountain, as at the first time, forty days and forty nights: and Yahweh listened to me that time also; Yahweh would not destroy you.\n",
      "\n",
      "\n",
      "Proverbs 8:26: while as yet he had not made the earth, nor the fields,\n",
      "nor the beginning of the dust of the world.\n",
      "\n",
      "\n",
      "Judges 21:18: However we may not give them wives of our daughters, for the children of Israel had sworn, saying, ‘Cursed is he who gives a wife to Benjamin.’”\n",
      "\n",
      "\n"
     ]
    }
   ],
   "source": [
    "similar_tags = [val[0] for val in similar]\n",
    "print('Actual: ' + verse_data[151]['text'] + '\\n')\n",
    "for tag in similar_tags:\n",
    "    for verse in verse_data:\n",
    "        if verse['verse'] == tag:\n",
    "            print(tag + ':', verse['text'] + '\\n\\n')"
   ]
  },
  {
   "cell_type": "markdown",
   "metadata": {},
   "source": [
    "## TF-IDF and Cosine Similarity"
   ]
  },
  {
   "cell_type": "code",
   "execution_count": 24,
   "metadata": {
    "collapsed": true
   },
   "outputs": [],
   "source": [
    "from sklearn.feature_extraction.text import TfidfVectorizer\n",
    "from sklearn.metrics.pairwise import cosine_similarity\n",
    "import numpy as np"
   ]
  },
  {
   "cell_type": "code",
   "execution_count": 25,
   "metadata": {
    "collapsed": true
   },
   "outputs": [],
   "source": [
    "vectorizer = TfidfVectorizer(stop_words='english')"
   ]
  },
  {
   "cell_type": "code",
   "execution_count": 26,
   "metadata": {
    "collapsed": true
   },
   "outputs": [],
   "source": [
    "term_idf = vectorizer.fit_transform([verse['text'] for verse in verse_data])"
   ]
  },
  {
   "cell_type": "code",
   "execution_count": 27,
   "metadata": {
    "collapsed": true
   },
   "outputs": [],
   "source": [
    "cosine_similarity_matrix = cosine_similarity(term_idf)"
   ]
  },
  {
   "cell_type": "code",
   "execution_count": 28,
   "metadata": {},
   "outputs": [
    {
     "name": "stdout",
     "output_type": "stream",
     "text": [
      "Actual: In the beginning, God created the heavens and the earth. \n",
      "\n",
      "Closest: This is the history of the generations of the heavens and of the earth when they were created, in the day that Yahweh God made the earth and the heavens.\n",
      "Score: 0.678020989269\n"
     ]
    }
   ],
   "source": [
    "x = list(reversed(np.argsort(cosine_similarity_matrix[0])))\n",
    "print('Actual: ' + verse_data[0]['text'], '\\n\\nClosest: ' + verse_data[x[1]]['text'])\n",
    "score = list(reversed(sorted(cosine_similarity_matrix[0])))[1]\n",
    "print('Score: ' + str(score))"
   ]
  },
  {
   "cell_type": "markdown",
   "metadata": {},
   "source": [
    "## Combined"
   ]
  },
  {
   "cell_type": "code",
   "execution_count": 33,
   "metadata": {
    "collapsed": true
   },
   "outputs": [],
   "source": [
    "def get_similar_values(tokenized_text, total_values=10):\n",
    "    inferred_vector = model.infer_vector(tokenized_text)\n",
    "    most_similar = model.docvecs.most_similar([inferred_vector], topn=total_values + 10)\n",
    "    text = [''.join(tokenized_text)]\n",
    "    for verse_name, _ in most_similar:\n",
    "        for verse in verse_data:\n",
    "            if verse['verse'] == verse_name:\n",
    "                text.append(verse['text'])\n",
    "    vectorizer = TfidfVectorizer(stop_words='english')\n",
    "    tf_idf_transform = vectorizer.fit_transform(text)\n",
    "    cos_sim_matrix = cosine_similarity(tf_idf_transform)\n",
    "    sim_text = cos_sim_matrix[0][1:]\n",
    "    final_text = []\n",
    "    final_indices = list(reversed(np.argsort(sim_text)))[:10]\n",
    "    for index in final_indices:\n",
    "        final_text.append(text[index])\n",
    "    return final_text"
   ]
  },
  {
   "cell_type": "code",
   "execution_count": 34,
   "metadata": {},
   "outputs": [
    {
     "name": "stdout",
     "output_type": "stream",
     "text": [
      "<class 'str'>\n",
      "Actual: Bring out with you every living thing that is with you of all flesh, including birds, livestock, and every creeping thing that creeps on the earth, that they may breed abundantly in the earth, and be fruitful, and multiply on the earth.”\n",
      "\n",
      "Is any among you suffering? Let him pray. Is any cheerful? Let him sing praises.\n",
      "\n",
      "\n",
      "Then you will begin to say, ‘We ate and drank in your presence, and you taught in our streets.’\n",
      "\n",
      "\n",
      "The kingdom and the dominion, and the greatness of the kingdoms under the whole sky, will be given to the people of the saints of the Most High. His kingdom is an everlasting kingdom, and all dominions will serve and obey him.’\n",
      "\n",
      "\n",
      "Also Bakbukiah and Unno, their brothers, were close to them according to their offices.\n",
      "\n",
      "\n",
      "For you have delivered my soul from death,\n",
      "and prevented my feet from falling,\n",
      "that I may walk before God in the light of the living.\n",
      "\n",
      "\n",
      "(and he commanded them to teach the children of Judah the song of the bow; behold, it is written in the book of Jashar):\n",
      "\n",
      "\n",
      "Harim, Meremoth, Obadiah,\n",
      "\n",
      "\n",
      "Therefore the people quarreled with Moses, and said, “Give us water to drink.”\n",
      "Moses said to them, “Why do you quarrel with me? Why do you test Yahweh?”\n",
      "\n",
      "\n",
      "Pharisees came to him testing him, and asked him, “Is it lawful for a man to divorce his wife?”\n",
      "\n",
      "\n",
      "Now those who sealed were: Nehemiah the governor, the son of Hacaliah, and Zedekiah,\n",
      "\n",
      "\n"
     ]
    }
   ],
   "source": [
    "results = get_similar_values(verse_data[200]['text'])\n",
    "print('Actual: ' + verse_data[200]['text'] + '\\n')\n",
    "for val in results:\n",
    "    print(val + '\\n\\n')"
   ]
  },
  {
   "cell_type": "code",
   "execution_count": null,
   "metadata": {
    "collapsed": true
   },
   "outputs": [],
   "source": []
  }
 ],
 "metadata": {
  "anaconda-cloud": {},
  "kernelspec": {
   "display_name": "Python 3",
   "language": "python",
   "name": "python3"
  },
  "language_info": {
   "codemirror_mode": {
    "name": "ipython",
    "version": 3
   },
   "file_extension": ".py",
   "mimetype": "text/x-python",
   "name": "python",
   "nbconvert_exporter": "python",
   "pygments_lexer": "ipython3",
   "version": "3.6.1"
  }
 },
 "nbformat": 4,
 "nbformat_minor": 1
}

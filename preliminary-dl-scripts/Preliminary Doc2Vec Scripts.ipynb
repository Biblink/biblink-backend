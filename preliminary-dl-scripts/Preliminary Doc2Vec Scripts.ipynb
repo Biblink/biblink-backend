{
 "cells": [
  {
   "cell_type": "markdown",
   "metadata": {},
   "source": [
    "# Preliminary Scripts for Doc2Vec Algorithm\n",
    "Author: Brandon Fan"
   ]
  },
  {
   "cell_type": "code",
   "execution_count": 1,
   "metadata": {
    "collapsed": false,
    "scrolled": true
   },
   "outputs": [],
   "source": [
    "# import packages\n",
    "import os\n",
    "import json"
   ]
  },
  {
   "cell_type": "markdown",
   "metadata": {},
   "source": [
    "## Load Data"
   ]
  },
  {
   "cell_type": "code",
   "execution_count": 2,
   "metadata": {
    "collapsed": false
   },
   "outputs": [],
   "source": [
    "bible_data = json.load(open('../bible-files/english-web-bible.json', encoding='utf-8-sig'))"
   ]
  },
  {
   "cell_type": "code",
   "execution_count": 3,
   "metadata": {
    "collapsed": true
   },
   "outputs": [],
   "source": [
    "verse_data = []\n",
    "for book in bible_data:\n",
    "    for chapter in book['data']:\n",
    "        for verses in chapter['verses']:\n",
    "           verse_data.append(verses)"
   ]
  },
  {
   "cell_type": "code",
   "execution_count": 4,
   "metadata": {
    "collapsed": false
   },
   "outputs": [],
   "source": [
    "for val in verse_data:\n",
    "    if val['text'] is None:\n",
    "        print(val)\n",
    "        "
   ]
  },
  {
   "cell_type": "markdown",
   "metadata": {},
   "source": [
    "## Preprocess Text"
   ]
  },
  {
   "cell_type": "code",
   "execution_count": 5,
   "metadata": {
    "collapsed": true
   },
   "outputs": [],
   "source": [
    "import nltk\n",
    "from nltk.tokenize import word_tokenize\n",
    "from nltk.corpus import stopwords\n",
    "import string"
   ]
  },
  {
   "cell_type": "code",
   "execution_count": 6,
   "metadata": {
    "collapsed": false
   },
   "outputs": [],
   "source": [
    "stopwords = set(stopwords.words('english'))\n",
    "exclude = set(string.punctuation)\n",
    "def tokenize_data(verse_data):\n",
    "    for verse in verse_data:\n",
    "        text = ''.join(ch for ch in verse['text'] if ch not in exclude)\n",
    "        tokenized_text = word_tokenize(text)\n",
    "        final_text = []\n",
    "        for val in tokenized_text:\n",
    "            if val not in stopwords:\n",
    "                if 'Yahweh' in val:\n",
    "                    val = val.replace('Yahweh', 'God')\n",
    "                final_text.append(val)\n",
    "        verse['tokenized_text'] = final_text\n",
    "tokenize_data(verse_data)"
   ]
  },
  {
   "cell_type": "markdown",
   "metadata": {},
   "source": [
    "## Doc2Vec"
   ]
  },
  {
   "cell_type": "code",
   "execution_count": 7,
   "metadata": {
    "collapsed": false
   },
   "outputs": [
    {
     "name": "stderr",
     "output_type": "stream",
     "text": [
      "C:\\Users\\Brandon Fan\\Anaconda3\\lib\\site-packages\\gensim\\utils.py:860: UserWarning: detected Windows; aliasing chunkize to chunkize_serial\n",
      "  warnings.warn(\"detected Windows; aliasing chunkize to chunkize_serial\")\n",
      "Using TensorFlow backend.\n"
     ]
    }
   ],
   "source": [
    "import gensim"
   ]
  },
  {
   "cell_type": "code",
   "execution_count": 8,
   "metadata": {
    "collapsed": true
   },
   "outputs": [],
   "source": [
    "def create_corpus(verse_tokenized_data, use_nltk=False):\n",
    "    for verse in verse_data:\n",
    "        if use_nltk:\n",
    "            words = verse['tokenized_text']\n",
    "            yield gensim.models.doc2vec.TaggedDocument(words, [verse['verse']])\n",
    "        else:\n",
    "            words = verse['text']\n",
    "            yield gensim.models.doc2vec.TaggedDocument(gensim.utils.simple_preprocess(words), [verse['verse']])"
   ]
  },
  {
   "cell_type": "code",
   "execution_count": 9,
   "metadata": {
    "collapsed": false
   },
   "outputs": [],
   "source": [
    "tagged_docs = list(create_corpus(verse_data, use_nltk=False))"
   ]
  },
  {
   "cell_type": "code",
   "execution_count": 10,
   "metadata": {
    "collapsed": false
   },
   "outputs": [],
   "source": [
    "model = gensim.models.Doc2Vec(size=20, iter=100, workers=11, min_count=4, window=4, alpha=0.0001, min_alpha=1e-6)"
   ]
  },
  {
   "cell_type": "code",
   "execution_count": 11,
   "metadata": {
    "collapsed": false
   },
   "outputs": [],
   "source": [
    "model.build_vocab(tagged_docs)"
   ]
  },
  {
   "cell_type": "code",
   "execution_count": 12,
   "metadata": {
    "collapsed": false,
    "scrolled": true
   },
   "outputs": [
    {
     "name": "stdout",
     "output_type": "stream",
     "text": [
      "Wall time: 1min 47s\n"
     ]
    }
   ],
   "source": [
    "%time model.train(tagged_docs, total_examples=model.corpus_count, epochs=model.iter)\n",
    "model.save('doc2vec.model')"
   ]
  },
  {
   "cell_type": "code",
   "execution_count": 13,
   "metadata": {
    "collapsed": false,
    "scrolled": true
   },
   "outputs": [
    {
     "data": {
      "text/plain": [
       "[('1 John 2:13', 0.7930722832679749),\n",
       " ('John 19:13', 0.7754273414611816),\n",
       " ('1 Timothy 4:14', 0.7729899883270264),\n",
       " ('Hebrews 5:12', 0.7543457746505737),\n",
       " ('1 Corinthians 15:24', 0.754139244556427),\n",
       " ('Psalms 119:86', 0.7347621321678162),\n",
       " ('Luke 3:10', 0.7343525886535645),\n",
       " ('Ezekiel 20:3', 0.7325412034988403),\n",
       " ('Jeremiah 49:17', 0.7265909910202026),\n",
       " ('Nehemiah 12:19', 0.7236027121543884)]"
      ]
     },
     "execution_count": 13,
     "metadata": {},
     "output_type": "execute_result"
    }
   ],
   "source": [
    "similar = model.docvecs.most_similar([model.infer_vector(verse_data[151]['text'])], topn=10)\n",
    "similar"
   ]
  },
  {
   "cell_type": "code",
   "execution_count": 14,
   "metadata": {
    "collapsed": false
   },
   "outputs": [
    {
     "name": "stdout",
     "output_type": "stream",
     "text": [
      "Actual: Make a ship of gopher wood. You shall make rooms in the ship, and shall seal it inside and outside with pitch.\n",
      "\n",
      "1 John 2:13: I write to you, fathers, because you know him who is from the beginning.\n",
      "I write to you, young men, because you have overcome the evil one.\n",
      "I write to you, little children, because you know the Father.\n",
      "\n",
      "\n",
      "John 19:13: When Pilate therefore heard these words, he brought Jesus out, and sat down on the judgment seat at a place called “The Pavement”, but in Hebrew, “Gabbatha.”\n",
      "\n",
      "\n",
      "1 Timothy 4:14: Don’t neglect the gift that is in you, which was given to you by prophecy, with the laying on of the hands of the elders.\n",
      "\n",
      "\n",
      "Hebrews 5:12: For although by this time you should be teachers, you again need to have someone teach you the rudiments of the first principles of the revelations of God. You have come to need milk, and not solid food.\n",
      "\n",
      "\n",
      "1 Corinthians 15:24: Then the end comes, when he will deliver up the Kingdom to God, even the Father; when he will have abolished all rule and all authority and power.\n",
      "\n",
      "\n",
      "Psalms 119:86: All of your commandments are faithful.\n",
      "They persecute me wrongfully.\n",
      "Help me!\n",
      "\n",
      "\n",
      "Luke 3:10: The multitudes asked him, “What then must we do?”\n",
      "\n",
      "\n",
      "Ezekiel 20:3: “Son of man, speak to the elders of Israel, and tell them, ‘Thus says the Lord Yahweh: “Is it to inquire of me that you have come? As I live,” says the Lord Yahweh, “I will not be inquired of by you.”’\n",
      "\n",
      "\n",
      "Jeremiah 49:17: “Edom will become an astonishment.\n",
      "Everyone who passes by it will be astonished,\n",
      "and will hiss at all its plagues.\n",
      "\n",
      "\n",
      "Nehemiah 12:19: and of Joiarib, Mattenai; of Jedaiah, Uzzi;\n",
      "\n",
      "\n"
     ]
    }
   ],
   "source": [
    "similar_tags = [val[0] for val in similar]\n",
    "print('Actual: ' + verse_data[151]['text'] + '\\n')\n",
    "for tag in similar_tags:\n",
    "    for verse in verse_data:\n",
    "        if verse['verse'] == tag:\n",
    "            print(tag + ':', verse['text'] + '\\n\\n')"
   ]
  },
  {
   "cell_type": "markdown",
   "metadata": {},
   "source": [
    "## TF-IDF and Cosine Similarity"
   ]
  },
  {
   "cell_type": "code",
   "execution_count": 15,
   "metadata": {
    "collapsed": true
   },
   "outputs": [],
   "source": [
    "from sklearn.feature_extraction.text import TfidfVectorizer\n",
    "from sklearn.metrics.pairwise import cosine_similarity\n",
    "import numpy as np"
   ]
  },
  {
   "cell_type": "code",
   "execution_count": 16,
   "metadata": {
    "collapsed": true
   },
   "outputs": [],
   "source": [
    "vectorizer = TfidfVectorizer(stop_words='english')"
   ]
  },
  {
   "cell_type": "code",
   "execution_count": 17,
   "metadata": {
    "collapsed": false
   },
   "outputs": [],
   "source": [
    "term_idf = vectorizer.fit_transform([verse['text'] for verse in verse_data])"
   ]
  },
  {
   "cell_type": "code",
   "execution_count": 18,
   "metadata": {
    "collapsed": false
   },
   "outputs": [],
   "source": [
    "cosine_similarity_matrix = cosine_similarity(term_idf)"
   ]
  },
  {
   "cell_type": "code",
   "execution_count": 19,
   "metadata": {
    "collapsed": false
   },
   "outputs": [
    {
     "name": "stdout",
     "output_type": "stream",
     "text": [
      "Actual: In the beginning, God created the heavens and the earth. \n",
      "\n",
      "Closest: This is the history of the generations of the heavens and of the earth when they were created, in the day that Yahweh God made the earth and the heavens.\n",
      "Score: 0.678020989269\n"
     ]
    }
   ],
   "source": [
    "x = list(reversed(np.argsort(cosine_similarity_matrix[0])))\n",
    "print('Actual: ' + verse_data[0]['text'], '\\n\\nClosest: ' + verse_data[x[1]]['text'])\n",
    "score = list(reversed(sorted(cosine_similarity_matrix[0])))[1]\n",
    "print('Score: ' + str(score))"
   ]
  },
  {
   "cell_type": "markdown",
   "metadata": {},
   "source": [
    "## Combined"
   ]
  },
  {
   "cell_type": "code",
   "execution_count": 20,
   "metadata": {
    "collapsed": true
   },
   "outputs": [],
   "source": [
    "def get_similar_values(tokenized_text, total_values=10):\n",
    "    inferred_vector = model.infer_vector(tokenized_text)\n",
    "    most_similar = model.docvecs.most_similar([inferred_vector], topn=total_values + 10)\n",
    "    text = [''.join(tokenized_text)]\n",
    "    for verse_name, _ in most_similar:\n",
    "        for verse in verse_data:\n",
    "            if verse['verse'] == verse_name:\n",
    "                text.append(verse['text'])\n",
    "    vectorizer = TfidfVectorizer(stop_words='english')\n",
    "    tf_idf_transform = vectorizer.fit_transform(text)\n",
    "    cos_sim_matrix = cosine_similarity(tf_idf_transform)\n",
    "    sim_text = cos_sim_matrix[0][1:]\n",
    "    final_text = []\n",
    "    final_indices = list(reversed(np.argsort(sim_text)))[:10]\n",
    "    for index in final_indices:\n",
    "        final_text.append(text[index])\n",
    "    return final_text"
   ]
  },
  {
   "cell_type": "code",
   "execution_count": 21,
   "metadata": {
    "collapsed": false
   },
   "outputs": [
    {
     "name": "stdout",
     "output_type": "stream",
     "text": [
      "Actual: Make a ship of gopher wood. You shall make rooms in the ship, and shall seal it inside and outside with pitch.\n",
      "for if God didn’t spare the natural branches, neither will he spare you.\n",
      "\n",
      "\n",
      "He was despised,\n",
      "and rejected by men;\n",
      "a man of suffering,\n",
      "and acquainted with disease.\n",
      "He was despised as one from whom men hide their face;\n",
      "and we didn’t respect him.\n",
      "\n",
      "\n",
      "“Son of man, speak to the elders of Israel, and tell them, ‘Thus says the Lord Yahweh: “Is it to inquire of me that you have come? As I live,” says the Lord Yahweh, “I will not be inquired of by you.”’\n",
      "\n",
      "\n",
      "I write to you, fathers, because you know him who is from the beginning.\n",
      "I write to you, young men, because you have overcome the evil one.\n",
      "I write to you, little children, because you know the Father.\n",
      "\n",
      "\n",
      "When Pilate therefore heard these words, he brought Jesus out, and sat down on the judgment seat at a place called “The Pavement”, but in Hebrew, “Gabbatha.”\n",
      "\n",
      "\n",
      "Don’t neglect the gift that is in you, which was given to you by prophecy, with the laying on of the hands of the elders.\n",
      "\n",
      "\n",
      "For although by this time you should be teachers, you again need to have someone teach you the rudiments of the first principles of the revelations of God. You have come to need milk, and not solid food.\n",
      "\n",
      "\n",
      "Then the end comes, when he will deliver up the Kingdom to God, even the Father; when he will have abolished all rule and all authority and power.\n",
      "\n",
      "\n",
      "All of your commandments are faithful.\n",
      "They persecute me wrongfully.\n",
      "Help me!\n",
      "\n",
      "\n",
      "The multitudes asked him, “What then must we do?”\n",
      "\n",
      "\n"
     ]
    }
   ],
   "source": [
    "results = get_similar_values(verse_data[151]['text'])\n",
    "print('Actual: ' + verse_data[151]['text'])\n",
    "for val in results:\n",
    "    print(val + '\\n\\n')"
   ]
  }
 ],
 "metadata": {
  "anaconda-cloud": {},
  "kernelspec": {
   "display_name": "Python [conda root]",
   "language": "python",
   "name": "conda-root-py"
  },
  "language_info": {
   "codemirror_mode": {
    "name": "ipython",
    "version": 3
   },
   "file_extension": ".py",
   "mimetype": "text/x-python",
   "name": "python",
   "nbconvert_exporter": "python",
   "pygments_lexer": "ipython3",
   "version": "3.5.2"
  }
 },
 "nbformat": 4,
 "nbformat_minor": 1
}

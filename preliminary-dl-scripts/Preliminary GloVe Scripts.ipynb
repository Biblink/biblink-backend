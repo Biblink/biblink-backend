{
 "cells": [
  {
   "cell_type": "markdown",
   "metadata": {},
   "source": [
    "# Preliminary Scripts for GloVe Embeddings\n",
    "\n",
    "Author: Brandon Fan"
   ]
  },
  {
   "cell_type": "code",
   "execution_count": 1,
   "metadata": {
    "collapsed": true
   },
   "outputs": [],
   "source": [
    "import os\n",
    "import json"
   ]
  },
  {
   "cell_type": "markdown",
   "metadata": {},
   "source": [
    "## Load Data"
   ]
  },
  {
   "cell_type": "code",
   "execution_count": 2,
   "metadata": {
    "collapsed": true
   },
   "outputs": [],
   "source": [
    "bible_data = json.load(open('../bible-files/english-web-bible.json', encoding='utf-8-sig'))"
   ]
  },
  {
   "cell_type": "code",
   "execution_count": 3,
   "metadata": {
    "collapsed": true
   },
   "outputs": [],
   "source": [
    "verse_data = []\n",
    "for book in bible_data:\n",
    "    for chapter in book['data']:\n",
    "        for verses in chapter['verses']:\n",
    "           verse_data.append(verses)"
   ]
  },
  {
   "cell_type": "markdown",
   "metadata": {},
   "source": [
    "## Preprocess Text"
   ]
  },
  {
   "cell_type": "code",
   "execution_count": 4,
   "metadata": {
    "collapsed": true
   },
   "outputs": [],
   "source": [
    "import nltk\n",
    "from nltk.tokenize import word_tokenize\n",
    "from nltk.corpus import stopwords\n",
    "import string"
   ]
  },
  {
   "cell_type": "code",
   "execution_count": 5,
   "metadata": {
    "collapsed": true
   },
   "outputs": [],
   "source": [
    "stopwords = set(stopwords.words('english'))\n",
    "exclude = set(string.punctuation)\n",
    "def tokenize_data(verse_data):\n",
    "    for verse in verse_data:\n",
    "        text = ''.join(ch for ch in verse['text'] if ch not in exclude)\n",
    "        tokenized_text = word_tokenize(text)\n",
    "        final_text = []\n",
    "        for val in tokenized_text:\n",
    "            if val not in stopwords:\n",
    "                if 'Yahweh' in val:\n",
    "                    val = val.replace('Yahweh', 'God')\n",
    "                final_text.append(val)\n",
    "        verse['tokenized_text'] = final_text\n",
    "tokenize_data(verse_data)"
   ]
  },
  {
   "cell_type": "markdown",
   "metadata": {},
   "source": [
    "## GloVe Import"
   ]
  },
  {
   "cell_type": "code",
   "execution_count": 6,
   "metadata": {
    "collapsed": true
   },
   "outputs": [],
   "source": [
    "import pandas as pd\n",
    "import csv"
   ]
  },
  {
   "cell_type": "code",
   "execution_count": 7,
   "metadata": {
    "collapsed": true
   },
   "outputs": [],
   "source": [
    "glove_data_file = './glove.6B/glove.6B.200d.txt'"
   ]
  },
  {
   "cell_type": "code",
   "execution_count": 8,
   "metadata": {
    "collapsed": true
   },
   "outputs": [],
   "source": [
    "words = pd.read_table(glove_data_file, sep=\" \", index_col=0, header=None, quoting=csv.QUOTE_NONE)"
   ]
  },
  {
   "cell_type": "code",
   "execution_count": 9,
   "metadata": {
    "collapsed": true
   },
   "outputs": [],
   "source": [
    "def vec(w):\n",
    "  return words.loc[w].as_matrix()"
   ]
  },
  {
   "cell_type": "code",
   "execution_count": 16,
   "metadata": {
    "collapsed": false
   },
   "outputs": [
    {
     "data": {
      "text/plain": [
       "(200,)"
      ]
     },
     "execution_count": 16,
     "metadata": {},
     "output_type": "execute_result"
    }
   ],
   "source": [
    "vec('okay').shape"
   ]
  },
  {
   "cell_type": "markdown",
   "metadata": {},
   "source": [
    "## Convert Words to Vectors"
   ]
  },
  {
   "cell_type": "code",
   "execution_count": 17,
   "metadata": {
    "collapsed": true
   },
   "outputs": [],
   "source": [
    "import numpy as np"
   ]
  },
  {
   "cell_type": "code",
   "execution_count": 20,
   "metadata": {
    "collapsed": true
   },
   "outputs": [],
   "source": [
    "MAX_LEN = 24"
   ]
  },
  {
   "cell_type": "code",
   "execution_count": 30,
   "metadata": {
    "collapsed": false
   },
   "outputs": [
    {
     "data": {
      "text/plain": [
       "31103"
      ]
     },
     "execution_count": 30,
     "metadata": {},
     "output_type": "execute_result"
    }
   ],
   "source": [
    "verse_data_with_glove = []\n",
    "for verse in verse_data:\n",
    "    vector = np.array([])\n",
    "    for word in verse['tokenized_text'][:MAX_LEN]:\n",
    "        try:\n",
    "            vector = np.append(vector, vec(word))\n",
    "        except Exception:\n",
    "            vector = np.append(vector, np.zeros(200))\n",
    "    if vector.shape[0] < MAX_LEN * 200:\n",
    "        vector = np.append(vector, np.zeros([MAX_LEN * 200 - vector.shape[0]]))\n",
    "    verse['vector'] = vector\n",
    "    verse_data_with_glove.append(verse)\n",
    "len(verse_data_with_glove)"
   ]
  },
  {
   "cell_type": "code",
   "execution_count": 31,
   "metadata": {
    "collapsed": false
   },
   "outputs": [
    {
     "data": {
      "text/plain": [
       "4800"
      ]
     },
     "execution_count": 31,
     "metadata": {},
     "output_type": "execute_result"
    }
   ],
   "source": [
    "verse_data_with_glove[0]['vector'].shape[0]"
   ]
  },
  {
   "cell_type": "code",
   "execution_count": 32,
   "metadata": {
    "collapsed": true
   },
   "outputs": [],
   "source": [
    "from sklearn.metrics.pairwise import cosine_similarity"
   ]
  },
  {
   "cell_type": "code",
   "execution_count": 33,
   "metadata": {
    "collapsed": true
   },
   "outputs": [],
   "source": [
    "cos_sim_matrix = cosine_similarity([verse['vector'] for verse in verse_data_with_glove])"
   ]
  },
  {
   "cell_type": "code",
   "execution_count": 37,
   "metadata": {
    "collapsed": false
   },
   "outputs": [
    {
     "data": {
      "text/plain": [
       "{'text': 'For I know that Yahweh is great,\\nthat our Lord is above all gods.',\n",
       " 'tokenized_text': ['For', 'I', 'know', 'God', 'great', 'Lord', 'gods'],\n",
       " 'vector': array([ 0.,  0.,  0., ...,  0.,  0.,  0.]),\n",
       " 'verse': 'Psalms 135:5',\n",
       " 'verse_number': '5'}"
      ]
     },
     "execution_count": 37,
     "metadata": {},
     "output_type": "execute_result"
    }
   ],
   "source": [
    "verse_data[np.argmax(cos_sim_matrix[0][1:])]"
   ]
  },
  {
   "cell_type": "markdown",
   "metadata": {},
   "source": [
    "# Get Similar Values"
   ]
  },
  {
   "cell_type": "code",
   "execution_count": 65,
   "metadata": {
    "collapsed": true
   },
   "outputs": [],
   "source": [
    "def get_similar_values(verse, total_values=10):\n",
    "    proper_index = None\n",
    "    for index, verse_text in enumerate(verse_data):\n",
    "        if verse_text['verse'] == verse:\n",
    "            proper_index = index\n",
    "            break\n",
    "    sim_text = cos_sim_matrix[proper_index][1:]\n",
    "    final_text = []\n",
    "    final_indices = list(reversed(np.argsort(sim_text)))[:total_values]\n",
    "    for index in final_indices:\n",
    "        final_text.append(verse_data[index])\n",
    "    return final_text"
   ]
  },
  {
   "cell_type": "code",
   "execution_count": 69,
   "metadata": {
    "collapsed": false
   },
   "outputs": [
    {
     "name": "stdout",
     "output_type": "stream",
     "text": [
      "Psalms 135:5: For I know that Yahweh is great,\n",
      "that our Lord is above all gods.\n",
      "\n",
      "\n",
      "Psalms 33:13: Yahweh looks from heaven.\n",
      "He sees all the sons of men.\n",
      "\n",
      "\n",
      "Psalms 105:6: you offspring of Abraham, his servant,\n",
      "you children of Jacob, his chosen ones.\n",
      "\n",
      "\n",
      "1 Chronicles 16:13: you offspring of Israel his servant,\n",
      "you children of Jacob, his chosen ones.\n",
      "\n",
      "\n",
      "Job 8:8: “Please inquire of past generations.\n",
      "Find out about the learning of their fathers.\n",
      "\n",
      "\n",
      "John 1:1: In the beginning was the Word, and the Word was with God, and the Word was God.\n",
      "\n",
      "\n",
      "Luke 24:53: and were continually in the temple, praising and blessing God. Amen.\n",
      "\n",
      "\n",
      "Matthew 28:20: teaching them to observe all things that I commanded you. Behold, I am with you always, even to the end of the age.” Amen.\n",
      "\n",
      "\n",
      "Psalms 34:15: Yahweh’s eyes are toward the righteous.\n",
      "His ears listen to their cry.\n",
      "\n",
      "\n",
      "Genesis 9:18: The sons of Noah who went out from the ship were Shem, Ham, and Japheth. Ham is the father of Canaan.\n",
      "\n",
      "\n"
     ]
    }
   ],
   "source": [
    "similar_values = get_similar_values('Genesis 1:1', total_values=10)\n",
    "for value in similar_values:\n",
    "    print(value['verse'] + ': ' + value['text'] + '\\n\\n')"
   ]
  },
  {
   "cell_type": "markdown",
   "metadata": {},
   "source": [
    "## Finetuning GloVe for Bible Text"
   ]
  },
  {
   "cell_type": "code",
   "execution_count": 113,
   "metadata": {
    "collapsed": false
   },
   "outputs": [],
   "source": [
    "import gensim\n",
    "from nltk.tokenize import RegexpTokenizer"
   ]
  },
  {
   "cell_type": "code",
   "execution_count": 103,
   "metadata": {
    "collapsed": true
   },
   "outputs": [],
   "source": [
    "f = open(glove_data_file, encoding='utf8')\n",
    "lines = f.readlines()\n",
    "f.close()"
   ]
  },
  {
   "cell_type": "code",
   "execution_count": 115,
   "metadata": {
    "collapsed": true
   },
   "outputs": [],
   "source": [
    "f_write = open('glove_gensim.model', 'w', encoding='utf8')"
   ]
  },
  {
   "cell_type": "code",
   "execution_count": 116,
   "metadata": {
    "collapsed": false
   },
   "outputs": [],
   "source": [
    "dimension_string = str(len(lines)) + ' ' + glove_data_file.split('.')[-2].split('d')[0]"
   ]
  },
  {
   "cell_type": "code",
   "execution_count": 117,
   "metadata": {
    "collapsed": false
   },
   "outputs": [],
   "source": [
    "f_write.write(dimension_string)\n",
    "f_write.write('\\n')\n",
    "for i in lines:\n",
    "     f_write.write(i)\n",
    "f_write.close()"
   ]
  },
  {
   "cell_type": "code",
   "execution_count": 118,
   "metadata": {
    "collapsed": false
   },
   "outputs": [],
   "source": [
    "Word2vec_keys = []\n",
    "with open( 'glove_gensim.model', 'r', encoding='utf8') as f:\n",
    "    for line in f:\n",
    "        line = line.split()\n",
    "        # word and vec\n",
    "        Word2vec_keys.append( line[0] )\n",
    "\n",
    "tokenizer = RegexpTokenizer( r\"\\w+|[^\\w\\s]\" ) # include punctunation"
   ]
  },
  {
   "cell_type": "code",
   "execution_count": 124,
   "metadata": {
    "collapsed": false
   },
   "outputs": [],
   "source": [
    "model = gensim.models.Word2Vec( [ Word2vec_keys ], size=200, alpha=0.0001, workers=10, \n",
    "                               min_alpha=1e-6, iter=55, min_count=0 )"
   ]
  },
  {
   "cell_type": "code",
   "execution_count": 125,
   "metadata": {
    "collapsed": true
   },
   "outputs": [],
   "source": [
    "corpora = [verse['tokenized_text'] for verse in verse_data]"
   ]
  },
  {
   "cell_type": "code",
   "execution_count": 126,
   "metadata": {
    "collapsed": true
   },
   "outputs": [],
   "source": [
    "model.build_vocab(corpora, update=True)"
   ]
  },
  {
   "cell_type": "code",
   "execution_count": 127,
   "metadata": {
    "collapsed": false
   },
   "outputs": [
    {
     "data": {
      "text/plain": [
       "18653597"
      ]
     },
     "execution_count": 127,
     "metadata": {},
     "output_type": "execute_result"
    }
   ],
   "source": [
    "model.train( corpora, total_examples = model.corpus_count, epochs = model.iter )"
   ]
  },
  {
   "cell_type": "code",
   "execution_count": 129,
   "metadata": {
    "collapsed": false
   },
   "outputs": [],
   "source": [
    "with open( 'glove_gensim_finetuned.txt', 'w+', encoding='utf8' ) as F:\n",
    "    for key in model.wv.vocab.keys():\n",
    "        vec = model[ key ]\n",
    "        vec = [ str( float( item ) ) for item in list( vec ) ]\n",
    "        line = key + ' ' + ' '.join( list( vec ) ) + '\\n'\n",
    "        F.write( line )\n",
    "    F.close()"
   ]
  },
  {
   "cell_type": "code",
   "execution_count": 130,
   "metadata": {
    "collapsed": true
   },
   "outputs": [],
   "source": [
    "finetuned_words = pd.read_table('glove_gensim_finetuned.txt', sep=\" \", index_col=0, header=None, quoting=csv.QUOTE_NONE)"
   ]
  },
  {
   "cell_type": "code",
   "execution_count": 131,
   "metadata": {
    "collapsed": true
   },
   "outputs": [],
   "source": [
    "def vec_finetuned(w):\n",
    "  return finetuned_words.loc[w].as_matrix()"
   ]
  },
  {
   "cell_type": "code",
   "execution_count": 132,
   "metadata": {
    "collapsed": false
   },
   "outputs": [
    {
     "data": {
      "text/plain": [
       "31103"
      ]
     },
     "execution_count": 132,
     "metadata": {},
     "output_type": "execute_result"
    }
   ],
   "source": [
    "verse_data_with_glove_finetuned = []\n",
    "for verse in verse_data:\n",
    "    vector = np.array([])\n",
    "    for word in verse['tokenized_text'][:MAX_LEN]:\n",
    "        try:\n",
    "            vector = np.append(vector, vec(word))\n",
    "        except Exception:\n",
    "            vector = np.append(vector, np.zeros(200))\n",
    "    if vector.shape[0] < MAX_LEN * 200:\n",
    "        vector = np.append(vector, np.zeros([MAX_LEN * 200 - vector.shape[0]]))\n",
    "    verse['vector'] = vector\n",
    "    verse_data_with_glove_finetuned.append(verse)\n",
    "len(verse_data_with_glove_finetuned)"
   ]
  },
  {
   "cell_type": "code",
   "execution_count": 133,
   "metadata": {
    "collapsed": true
   },
   "outputs": [],
   "source": [
    "cos_sim_matrix_finetuned = cosine_similarity([verse['vector'] for verse in verse_data_with_glove_finetuned])"
   ]
  },
  {
   "cell_type": "code",
   "execution_count": 134,
   "metadata": {
    "collapsed": true
   },
   "outputs": [],
   "source": [
    "def get_similar_values_finetuned(verse, total_values=10):\n",
    "    proper_index = None\n",
    "    for index, verse_text in enumerate(verse_data):\n",
    "        if verse_text['verse'] == verse:\n",
    "            proper_index = index\n",
    "            break\n",
    "    sim_text = cos_sim_matrix_finetuned[proper_index][1:]\n",
    "    final_text = []\n",
    "    final_indices = list(reversed(np.argsort(sim_text)))[:total_values]\n",
    "    for index in final_indices:\n",
    "        final_text.append(verse_data[index])\n",
    "    return final_text"
   ]
  },
  {
   "cell_type": "code",
   "execution_count": 135,
   "metadata": {
    "collapsed": false
   },
   "outputs": [
    {
     "name": "stdout",
     "output_type": "stream",
     "text": [
      "Psalms 135:5: For I know that Yahweh is great,\n",
      "that our Lord is above all gods.\n",
      "\n",
      "\n",
      "Psalms 33:13: Yahweh looks from heaven.\n",
      "He sees all the sons of men.\n",
      "\n",
      "\n",
      "Psalms 105:6: you offspring of Abraham, his servant,\n",
      "you children of Jacob, his chosen ones.\n",
      "\n",
      "\n",
      "1 Chronicles 16:13: you offspring of Israel his servant,\n",
      "you children of Jacob, his chosen ones.\n",
      "\n",
      "\n",
      "Job 8:8: “Please inquire of past generations.\n",
      "Find out about the learning of their fathers.\n",
      "\n",
      "\n",
      "John 1:1: In the beginning was the Word, and the Word was with God, and the Word was God.\n",
      "\n",
      "\n",
      "Luke 24:53: and were continually in the temple, praising and blessing God. Amen.\n",
      "\n",
      "\n",
      "Matthew 28:20: teaching them to observe all things that I commanded you. Behold, I am with you always, even to the end of the age.” Amen.\n",
      "\n",
      "\n",
      "Psalms 34:15: Yahweh’s eyes are toward the righteous.\n",
      "His ears listen to their cry.\n",
      "\n",
      "\n",
      "Genesis 9:18: The sons of Noah who went out from the ship were Shem, Ham, and Japheth. Ham is the father of Canaan.\n",
      "\n",
      "\n"
     ]
    }
   ],
   "source": [
    "similar_values = get_similar_values('Genesis 1:1', total_values=10)\n",
    "for value in similar_values:\n",
    "    print(value['verse'] + ': ' + value['text'] + '\\n\\n')"
   ]
  }
 ],
 "metadata": {
  "anaconda-cloud": {},
  "kernelspec": {
   "display_name": "Python [conda root]",
   "language": "python",
   "name": "conda-root-py"
  },
  "language_info": {
   "codemirror_mode": {
    "name": "ipython",
    "version": 3
   },
   "file_extension": ".py",
   "mimetype": "text/x-python",
   "name": "python",
   "nbconvert_exporter": "python",
   "pygments_lexer": "ipython3",
   "version": "3.5.2"
  }
 },
 "nbformat": 4,
 "nbformat_minor": 1
}

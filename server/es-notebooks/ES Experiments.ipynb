{
 "cells": [
  {
   "cell_type": "code",
   "execution_count": 1,
   "metadata": {
    "collapsed": true
   },
   "outputs": [],
   "source": [
    "from elasticsearch import Elasticsearch\n",
    "from elasticsearch_dsl import Search\n",
    "from elasticsearch_dsl.query import Q\n",
    "from fuzzywuzzy import fuzz\n",
    "import re"
   ]
  },
  {
   "cell_type": "code",
   "execution_count": 2,
   "metadata": {
    "collapsed": true
   },
   "outputs": [],
   "source": [
    "books = [book.lower() for book in open('../files/books.txt').read().split('\\n')]"
   ]
  },
  {
   "cell_type": "code",
   "execution_count": 3,
   "metadata": {
    "collapsed": true
   },
   "outputs": [],
   "source": [
    "client = Elasticsearch()\n",
    "s = Search(using=client)"
   ]
  },
  {
   "cell_type": "code",
   "execution_count": 64,
   "metadata": {},
   "outputs": [],
   "source": [
    "verse_parser = re.compile(r'(\\d\\s)?([\\w\\.]+)\\s+([\\d:,\\-\\s\\;]+)')\n",
    "def search(term):\n",
    "    match = verse_parser.match(term)\n",
    "    if match:\n",
    "        response = s.query('match', verse=term).highlight('verse').execute()\n",
    "        for hit in response:\n",
    "            print(hit.verse, hit.meta.highlight.verse)\n",
    "        return\n",
    "    book_match = max(list(map(lambda book: fuzz.ratio(term.strip().lower(), book), books)))\n",
    "    sorted_books = list(reversed(sorted(books, key=lambda book: fuzz.ratio(term.strip().lower(), book))))\n",
    "    if book_match >= 60:\n",
    "        book_query = Q('bool', must=[Q('match', book=sorted_books[0])])\n",
    "        response = s.query(book_query).highlight('book').execute()\n",
    "        for hit in response:\n",
    "            print(' '.join(hit.meta.highlight.book).strip() + ' ' +  hit.verse.split()[-1])\n",
    "        return\n",
    "    else:\n",
    "        query_string = Q(\n",
    "            'match_phrase', text={'query': term, 'slop': 2})\n",
    "        response = s.query(query_string).highlight('text').execute()\n",
    "        for hit in response.hits.hits:\n",
    "            print(' '.join(hit['highlight']['text']))\n",
    "        return"
   ]
  },
  {
   "cell_type": "code",
   "execution_count": 67,
   "metadata": {},
   "outputs": [
    {
     "name": "stdout",
     "output_type": "stream",
     "text": [
      "<em>Song</em> <em>of</em> <em>Solomon</em> 1:2\n",
      "<em>Song</em> <em>of</em> <em>Solomon</em> 1:3\n",
      "<em>Song</em> <em>of</em> <em>Solomon</em> 1:8\n",
      "<em>Song</em> <em>of</em> <em>Solomon</em> 1:15\n",
      "<em>Song</em> <em>of</em> <em>Solomon</em> 1:16\n",
      "<em>Song</em> <em>of</em> <em>Solomon</em> 2:3\n",
      "<em>Song</em> <em>of</em> <em>Solomon</em> 2:9\n",
      "<em>Song</em> <em>of</em> <em>Solomon</em> 2:13\n",
      "<em>Song</em> <em>of</em> <em>Solomon</em> 4:4\n",
      "<em>Song</em> <em>of</em> <em>Solomon</em> 4:7\n"
     ]
    }
   ],
   "source": [
    "search('Songs of S')"
   ]
  },
  {
   "cell_type": "code",
   "execution_count": null,
   "metadata": {
    "collapsed": true
   },
   "outputs": [],
   "source": []
  }
 ],
 "metadata": {
  "kernelspec": {
   "display_name": "Python 3",
   "language": "python",
   "name": "python3"
  },
  "language_info": {
   "codemirror_mode": {
    "name": "ipython",
    "version": 3
   },
   "file_extension": ".py",
   "mimetype": "text/x-python",
   "name": "python",
   "nbconvert_exporter": "python",
   "pygments_lexer": "ipython3",
   "version": "3.6.1"
  }
 },
 "nbformat": 4,
 "nbformat_minor": 2
}

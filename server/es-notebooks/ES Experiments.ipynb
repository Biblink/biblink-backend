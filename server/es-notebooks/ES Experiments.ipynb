{
 "cells": [
  {
   "cell_type": "code",
   "execution_count": 25,
   "metadata": {
    "collapsed": true
   },
   "outputs": [],
   "source": [
    "from elasticsearch import Elasticsearch\n",
    "from elasticsearch_dsl import Search\n",
    "from elasticsearch_dsl.query import Q\n",
    "from fuzzywuzzy import fuzz\n",
    "import re"
   ]
  },
  {
   "cell_type": "code",
   "execution_count": 26,
   "metadata": {
    "collapsed": true
   },
   "outputs": [],
   "source": [
    "books = [book.lower() for book in open('../files/books.txt').read().split('\\n')]"
   ]
  },
  {
   "cell_type": "code",
   "execution_count": 27,
   "metadata": {
    "collapsed": true
   },
   "outputs": [],
   "source": [
    "client = Elasticsearch()\n",
    "s = Search(using=client)"
   ]
  },
  {
   "cell_type": "code",
   "execution_count": 34,
   "metadata": {
    "collapsed": true
   },
   "outputs": [],
   "source": [
    "verse_parser = re.compile(r'(\\d\\s)?([\\w\\.]+)\\s+([\\d:,\\-\\s\\;]+)')\n",
    "def search(term, sort='relevant'):\n",
    "    match = verse_parser.match(term)\n",
    "    if match:\n",
    "        response = s.query('match', verse=term).highlight('verse').execute()\n",
    "        for hit in response:\n",
    "            print(hit.verse, hit.meta.highlight.verse)\n",
    "        return\n",
    "    book_match = max(list(map(lambda book: fuzz.ratio(term.strip().lower(), book), books)))\n",
    "    sorted_books = list(reversed(sorted(books, key=lambda book: fuzz.ratio(term.strip().lower(), book))))\n",
    "    if book_match >= 60:\n",
    "        book_query = Q('bool', must=[Q('match', book=sorted_books[0])])\n",
    "        response = s.query(book_query).highlight('book').execute()\n",
    "        for hit in response:\n",
    "            print(hit['book_id'])\n",
    "            print(' '.join(hit.meta.highlight.book).strip() + ' ' +  hit.verse.split()[-1])\n",
    "        return\n",
    "    else:\n",
    "        query_string = Q(\n",
    "            'match_phrase', text={'query': term, 'slop': 2})\n",
    "        response = s.query(query_string).highlight('text').execute()\n",
    "        for hit in response.hits.hits:\n",
    "            print(hit['_source']['book_id'])\n",
    "            print(' '.join(hit['highlight']['text']))\n",
    "        return"
   ]
  },
  {
   "cell_type": "code",
   "execution_count": 35,
   "metadata": {},
   "outputs": [
    {
     "name": "stdout",
     "output_type": "stream",
     "text": [
      "41\n",
      "If you <em>love</em> those who <em>love</em> you, what credit is that to you? For even sinners <em>love</em> those who <em>love</em> them.\n",
      "45\n",
      "<em>Love</em> is patient and is kind; <em>love</em> doesn’t envy. <em>Love</em> doesn’t brag, is not proud,\n",
      "61\n",
      "He who doesn’t <em>love</em> doesn’t know God, for God is <em>love</em>.\n",
      "48\n",
      "Grace be with all those who <em>love</em> our Lord Jesus Christ with incorruptible <em>love</em>.\n",
      "19\n",
      "<em>Love</em> and faithfulness keep the king safe. His throne is sustained by <em>love</em>.\n",
      "57\n",
      "Let brotherly <em>love</em> continue.\n",
      "55\n",
      "that they may train the young wives to <em>love</em> their husbands, to <em>love</em> their children,\n",
      "44\n",
      "<em>Love</em> doesn’t harm a neighbor. <em>Love</em> therefore is the fulfillment of the law.\n",
      "61\n",
      "There is no fear in <em>love</em>; but perfect <em>love</em> casts out fear, because fear has punishment. He who fears is not made perfect in <em>love</em>.\n",
      "19\n",
      "I <em>love</em> those who <em>love</em> me.\n"
     ]
    }
   ],
   "source": [
    "search('Love')"
   ]
  },
  {
   "cell_type": "code",
   "execution_count": null,
   "metadata": {
    "collapsed": true
   },
   "outputs": [],
   "source": []
  }
 ],
 "metadata": {
  "kernelspec": {
   "display_name": "Python 3",
   "language": "python",
   "name": "python3"
  },
  "language_info": {
   "codemirror_mode": {
    "name": "ipython",
    "version": 3
   },
   "file_extension": ".py",
   "mimetype": "text/x-python",
   "name": "python",
   "nbconvert_exporter": "python",
   "pygments_lexer": "ipython3",
   "version": "3.6.1"
  }
 },
 "nbformat": 4,
 "nbformat_minor": 2
}

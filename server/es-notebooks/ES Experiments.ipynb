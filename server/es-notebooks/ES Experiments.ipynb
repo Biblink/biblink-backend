{
 "cells": [
  {
   "cell_type": "code",
   "execution_count": 198,
   "metadata": {},
   "outputs": [],
   "source": [
    "from elasticsearch import Elasticsearch\n",
    "from elasticsearch_dsl import Search\n",
    "from elasticsearch_dsl.query import Q\n",
    "from fuzzywuzzy import fuzz\n",
    "import re"
   ]
  },
  {
   "cell_type": "code",
   "execution_count": 199,
   "metadata": {},
   "outputs": [],
   "source": [
    "books = [book.lower() for book in open('../files/books.txt').read().split('\\n')]"
   ]
  },
  {
   "cell_type": "code",
   "execution_count": 200,
   "metadata": {
    "collapsed": true
   },
   "outputs": [],
   "source": [
    "client = Elasticsearch()\n",
    "s = Search(using=client)"
   ]
  },
  {
   "cell_type": "code",
   "execution_count": 228,
   "metadata": {},
   "outputs": [],
   "source": [
    "verse_parser = re.compile(r'(\\d\\s)?([\\w\\.]+)\\s+([\\d:,\\-\\s\\;]+)')\n",
    "def search(term):\n",
    "    match = verse_parser.match(term)\n",
    "    if match:\n",
    "        response = s.query('match', verse=term).execute()\n",
    "        for hit in response:\n",
    "            print(hit.verse)\n",
    "        return\n",
    "    book_match = max(list(map(lambda book: fuzz.ratio(term.strip().lower(), book), books)))\n",
    "    sorted_books = list(reversed(sorted(books, key=lambda book: fuzz.ratio(term.strip().lower(), book))))\n",
    "    if book_match >= 60:\n",
    "        book_query = Q('bool', must=[Q('match', book=sorted_books[0])])\n",
    "        response = s.query(book_query).execute()\n",
    "        for hit in response:\n",
    "            print(hit.verse)\n",
    "        return\n",
    "    else:\n",
    "        query_string = Q(\n",
    "            'match_phrase', text={'query': term, 'slop': 2})\n",
    "        response = s.query(query_string).execute()\n",
    "        for hit in response:\n",
    "            print((hit.verse, hit.text))\n",
    "        return"
   ]
  },
  {
   "cell_type": "code",
   "execution_count": 229,
   "metadata": {},
   "outputs": [
    {
     "name": "stdout",
     "output_type": "stream",
     "text": [
      "1 Samuel 1:1\n",
      "1 Thessalonians 1:1\n",
      "1 Peter 1:1\n",
      "1 Corinthians 1:1\n",
      "1 Kings 1:1\n",
      "1 Timothy 1:1\n",
      "1 John 1:1\n",
      "1 Chronicles 1:1\n",
      "Deuteronomy 1:1\n",
      "Genesis 1:1\n"
     ]
    }
   ],
   "source": [
    "search('joh 1:1')"
   ]
  },
  {
   "cell_type": "code",
   "execution_count": null,
   "metadata": {
    "collapsed": true
   },
   "outputs": [],
   "source": []
  }
 ],
 "metadata": {
  "kernelspec": {
   "display_name": "Python 3",
   "language": "python",
   "name": "python3"
  },
  "language_info": {
   "codemirror_mode": {
    "name": "ipython",
    "version": 3
   },
   "file_extension": ".py",
   "mimetype": "text/x-python",
   "name": "python",
   "nbconvert_exporter": "python",
   "pygments_lexer": "ipython3",
   "version": "3.6.1"
  }
 },
 "nbformat": 4,
 "nbformat_minor": 2
}
